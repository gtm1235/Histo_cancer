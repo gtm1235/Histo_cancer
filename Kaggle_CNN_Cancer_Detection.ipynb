{
 "cells": [
  {
   "cell_type": "markdown",
   "metadata": {},
   "source": [
    "Creating a custom CNN for detection of cancer from histology specimens."
   ]
  },
  {
   "cell_type": "markdown",
   "metadata": {},
   "source": [
    "##first imports for torch, torchvision, numpy, pandas, and os"
   ]
  },
  {
   "cell_type": "code",
   "execution_count": 1,
   "metadata": {},
   "outputs": [],
   "source": [
    "import torch\n",
    "import torch\n",
    "import torch.nn.functional as F\n",
    "from torch import nn\n",
    "from torch import optim\n",
    "from torchvision import datasets, transforms, models\n",
    "from torch.utils.data.sampler import SubsetRandomSampler\n",
    "\n",
    "%matplotlib inline\n",
    "%config InlineBackend.figure_format = 'retina'\n",
    "import PIL\n",
    "import matplotlib as plt"
   ]
  },
  {
   "cell_type": "code",
   "execution_count": 2,
   "metadata": {},
   "outputs": [],
   "source": [
    "import os\n",
    "import pandas as pd\n",
    "import numpy as np\n",
    "import shutil"
   ]
  },
  {
   "cell_type": "code",
   "execution_count": null,
   "metadata": {},
   "outputs": [],
   "source": [
    "#Set up for cuda usage\n",
    "device = torch.device(\"cuda\" if torch.cuda.is_available else \"cpu\")\n",
    "print(\"{} is available\".format(device))"
   ]
  },
  {
   "cell_type": "code",
   "execution_count": 6,
   "metadata": {},
   "outputs": [],
   "source": [
    "# Reorganizing data to subfolders zero and one for pytorch labels implementation\n",
    "csv_file = r'''C:\\Users\\gtm12\\OneDrive\\Documents\\Jupyter Notebooks\\Kaggle\\Histo_cancer\\train_labels.csv'''\n",
    "training_path = r'''C:\\Users\\gtm12\\OneDrive\\Documents\\Jupyter Notebooks\\Kaggle\\Histo_cancer\\histo_data\\train\\\\'''\n",
    "train_path_0 = r'''C:\\Users\\gtm12\\OneDrive\\Documents\\Jupyter Notebooks\\Kaggle\\Histo_cancer\\histo_data\\train\\0\\\\'''\n",
    "train_path_1 = r'''C:\\Users\\gtm12\\OneDrive\\Documents\\Jupyter Notebooks\\Kaggle\\Histo_cancer\\histo_data\\train\\1\\\\'''\n",
    "\n",
    "def move_to_subfolders(csv_file, training_path, train_path_0, train_path_1):\n",
    "    labels = pd.read_csv(csv_file)\n",
    "\n",
    "\n",
    "    try:\n",
    "        for i in range(len(labels)):\n",
    "            file_name = str(labels.id[i]) + '.tif'\n",
    "            if labels.label[i].item() == 0:\n",
    "                file_path_copy = train_path_0\n",
    "            elif labels.label[i].item() == 1:\n",
    "                file_path_copy = train_path_1\n",
    "\n",
    "            file_path_copy = file_path_copy + file_name\n",
    "            file_origin = training_path + file_name\n",
    "            shutil.copy2(file_origin, file_path_copy)\n",
    "    \n",
    "            os.remove(file_origin)\n",
    "    except FileNotFoundError:\n",
    "        print(\"There are no filese or files have been moved\")\n",
    "    return"
   ]
  },
  {
   "cell_type": "code",
   "execution_count": 7,
   "metadata": {},
   "outputs": [
    {
     "name": "stdout",
     "output_type": "stream",
     "text": [
      "There are no filese or files have been moved\n"
     ]
    }
   ],
   "source": [
    "move_to_subfolders(csv_file, training_path, train_path_0, train_path_1)"
   ]
  },
  {
   "cell_type": "code",
   "execution_count": null,
   "metadata": {},
   "outputs": [],
   "source": [
    "# Begin to load Data Transforms and split validation set"
   ]
  },
  {
   "cell_type": "code",
   "execution_count": null,
   "metadata": {},
   "outputs": [],
   "source": [
    "# number of subprocesses to use for data loading\n",
    "num_workers = 0\n",
    "# how many samples per batch to load\n",
    "batch_size = 1000\n",
    "# percentage of training set to use as validation\n",
    "valid_size = 0.15\n",
    "#file directories\n",
    "data_dir = '/content/drive/My Drive/pytorch final/flower_data'\n",
    "train_dir = data_dir + '/train'\n",
    "valid_dir = data_dir + '/valid'"
   ]
  },
  {
   "cell_type": "code",
   "execution_count": null,
   "metadata": {},
   "outputs": [],
   "source": [
    "# TODO: Define your transforms for the training and validation sets\n",
    "train_transforms = transforms.Compose([transforms.RandomRotation(15),\n",
    "                                      transforms.RandomResizedCrop(32),\n",
    "                                      transforms.RandomHorizontalFlip(),\n",
    "                                      transforms.ColorJitter(brightness=0.4,\n",
    "                                                             contrast=0.4,\n",
    "                                                             saturation = 0.4,\n",
    "                                                             hue=0.1),\n",
    "                                      transforms.ToTensor(),\n",
    "                                      transforms.Normalize([0.485, 0.456, 0.406],\n",
    "                                                          [0.229, 0.224, 0.225])])\n",
    "\n",
    "valid_transforms = transforms.Compose([transforms.Resize(48),\n",
    "                                      transforms.CenterCrop(32),\n",
    "                                      transforms.ToTensor(),\n",
    "                                      transforms.Normalize([0.485, 0.456, 0.406],\n",
    "                                                          [0.229, 0.224, 0.225])])\n",
    "\n",
    "\n",
    "# TODO: Load the datasets with ImageFolder\n",
    "train_data = datasets.ImageFolder(train_dir, transform=train_transforms)\n",
    "valid_data = datasets.ImageFolder(valid_dir, transform=valid_transforms)\n",
    "\n",
    "# TODO: Using the image datasets and the trainforms, define the dataloaders\n",
    "trainloader = torch.utils.data.DataLoader(train_data, batch_size=64, shuffle=True)\n",
    "validloader = torch.utils.data.DataLoader(valid_data, batch_size=64, shuffle=True)"
   ]
  }
 ],
 "metadata": {
  "kernelspec": {
   "display_name": "Python 3",
   "language": "python",
   "name": "python3"
  },
  "language_info": {
   "codemirror_mode": {
    "name": "ipython",
    "version": 3
   },
   "file_extension": ".py",
   "mimetype": "text/x-python",
   "name": "python",
   "nbconvert_exporter": "python",
   "pygments_lexer": "ipython3",
   "version": "3.7.1"
  }
 },
 "nbformat": 4,
 "nbformat_minor": 2
}
