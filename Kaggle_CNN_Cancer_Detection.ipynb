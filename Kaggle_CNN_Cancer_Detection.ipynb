{
 "cells": [
  {
   "cell_type": "markdown",
   "metadata": {},
   "source": [
    "Creating a custom CNN for detection of cancer from histology specimens."
   ]
  },
  {
   "cell_type": "markdown",
   "metadata": {},
   "source": [
    "##first imports for torch, torchvision, numpy, pandas, and os"
   ]
  },
  {
   "cell_type": "code",
   "execution_count": 1,
   "metadata": {},
   "outputs": [],
   "source": [
    "import torch\n",
    "import torch\n",
    "import torch.nn.functional as F\n",
    "from torch import nn\n",
    "from torch import optim\n",
    "from torchvision import datasets, transforms, models\n",
    "from torch.utils.data.sampler import SubsetRandomSampler\n",
    "\n",
    "%matplotlib inline\n",
    "%config InlineBackend.figure_format = 'retina'\n",
    "import PIL\n",
    "import matplotlib as plt"
   ]
  },
  {
   "cell_type": "code",
   "execution_count": 2,
   "metadata": {},
   "outputs": [],
   "source": [
    "import os\n",
    "import pandas as pd\n",
    "import numpy as np\n",
    "import shutil"
   ]
  },
  {
   "cell_type": "code",
   "execution_count": 6,
   "metadata": {},
   "outputs": [],
   "source": [
    "# Reorganizing data to subfolders zero and one for pytorch labels implementation\n",
    "csv_file = r'''C:\\Users\\gtm12\\OneDrive\\Documents\\Jupyter Notebooks\\Kaggle\\Histo_cancer\\train_labels.csv'''\n",
    "training_path = r'''C:\\Users\\gtm12\\OneDrive\\Documents\\Jupyter Notebooks\\Kaggle\\Histo_cancer\\histo_data\\train\\\\'''\n",
    "train_path_0 = r'''C:\\Users\\gtm12\\OneDrive\\Documents\\Jupyter Notebooks\\Kaggle\\Histo_cancer\\histo_data\\train\\0\\\\'''\n",
    "train_path_1 = r'''C:\\Users\\gtm12\\OneDrive\\Documents\\Jupyter Notebooks\\Kaggle\\Histo_cancer\\histo_data\\train\\1\\\\'''\n",
    "\n",
    "def move_to_subfolders(csv_file, training_path, train_path_0, train_path_1):\n",
    "    labels = pd.read_csv(csv_file)\n",
    "\n",
    "\n",
    "    try:\n",
    "        for i in range(len(labels)):\n",
    "            file_name = str(labels.id[i]) + '.tif'\n",
    "            if labels.label[i].item() == 0:\n",
    "                file_path_copy = train_path_0\n",
    "            elif labels.label[i].item() == 1:\n",
    "                file_path_copy = train_path_1\n",
    "\n",
    "            file_path_copy = file_path_copy + file_name\n",
    "            file_origin = training_path + file_name\n",
    "            shutil.copy2(file_origin, file_path_copy)\n",
    "    \n",
    "            os.remove(file_origin)\n",
    "    except FileNotFoundError:\n",
    "        print(\"There are no filese or files have been moved\")\n",
    "    return"
   ]
  },
  {
   "cell_type": "code",
   "execution_count": 7,
   "metadata": {},
   "outputs": [
    {
     "name": "stdout",
     "output_type": "stream",
     "text": [
      "There are no filese or files have been moved\n"
     ]
    }
   ],
   "source": [
    "move_to_subfolders(csv_file, training_path, train_path_0, train_path_1)"
   ]
  },
  {
   "cell_type": "code",
   "execution_count": null,
   "metadata": {},
   "outputs": [],
   "source": []
  }
 ],
 "metadata": {
  "kernelspec": {
   "display_name": "Python 3",
   "language": "python",
   "name": "python3"
  },
  "language_info": {
   "codemirror_mode": {
    "name": "ipython",
    "version": 3
   },
   "file_extension": ".py",
   "mimetype": "text/x-python",
   "name": "python",
   "nbconvert_exporter": "python",
   "pygments_lexer": "ipython3",
   "version": "3.7.1"
  }
 },
 "nbformat": 4,
 "nbformat_minor": 2
}
